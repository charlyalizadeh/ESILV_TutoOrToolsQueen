{
  "nbformat": 4,
  "nbformat_minor": 0,
  "metadata": {
    "colab": {
      "name": "TutoQueenOrTools.ipynb",
      "provenance": [],
      "collapsed_sections": []
    },
    "kernelspec": {
      "name": "python3",
      "display_name": "Python 3"
    }
  },
  "cells": [
    {
      "cell_type": "markdown",
      "metadata": {
        "id": "X268F6ALyRud",
        "colab_type": "text"
      },
      "source": [
        "Si vous voulez faire tourner le code exécuter cette commande :"
      ]
    },
    {
      "cell_type": "code",
      "metadata": {
        "id": "J-tZgJGyyPMd",
        "colab_type": "code",
        "colab": {
          "base_uri": "https://localhost:8080/",
          "height": 323
        },
        "outputId": "7d4af815-e0ff-4ad4-809b-4bcb06fda563"
      },
      "source": [
        "!pip install ortools"
      ],
      "execution_count": 1,
      "outputs": [
        {
          "output_type": "stream",
          "text": [
            "Collecting ortools\n",
            "\u001b[?25l  Downloading https://files.pythonhosted.org/packages/1c/d5/c4382df6b6b978971f11287552f5c0acc54ea7bf8ce70a9c77d8a06531b2/ortools-7.6.7691-cp36-cp36m-manylinux1_x86_64.whl (28.9MB)\n",
            "\u001b[K     |████████████████████████████████| 28.9MB 144kB/s \n",
            "\u001b[?25hCollecting protobuf>=3.11.2\n",
            "\u001b[?25l  Downloading https://files.pythonhosted.org/packages/28/05/9867ef8eafd12265267bee138fa2c46ebf34a276ea4cbe184cba4c606e8b/protobuf-3.12.2-cp36-cp36m-manylinux1_x86_64.whl (1.3MB)\n",
            "\u001b[K     |████████████████████████████████| 1.3MB 48.0MB/s \n",
            "\u001b[?25hRequirement already satisfied: six>=1.10 in /usr/local/lib/python3.6/dist-packages (from ortools) (1.12.0)\n",
            "Requirement already satisfied: setuptools in /usr/local/lib/python3.6/dist-packages (from protobuf>=3.11.2->ortools) (47.1.1)\n",
            "Installing collected packages: protobuf, ortools\n",
            "  Found existing installation: protobuf 3.10.0\n",
            "    Uninstalling protobuf-3.10.0:\n",
            "      Successfully uninstalled protobuf-3.10.0\n",
            "Successfully installed ortools-7.6.7691 protobuf-3.12.2\n"
          ],
          "name": "stdout"
        },
        {
          "output_type": "display_data",
          "data": {
            "application/vnd.colab-display-data+json": {
              "pip_warning": {
                "packages": [
                  "google"
                ]
              }
            }
          },
          "metadata": {
            "tags": []
          }
        }
      ]
    },
    {
      "cell_type": "markdown",
      "metadata": {
        "id": "I47tOpvSqnWy",
        "colab_type": "text"
      },
      "source": [
        "Pour pouvoir utiliser ortools il faut l'avoir télécharger grâce à la commande suivante (cmd ou annaconda prompt si vous utilisez anaconda): \n",
        "`pip install ortools`"
      ]
    },
    {
      "cell_type": "markdown",
      "metadata": {
        "id": "Rcpl0TT8q89E",
        "colab_type": "text"
      },
      "source": [
        "Si ortools s'est bien installé vous pouvez directement passer à la partie **Or Tools**\n",
        "Sinon il peut y avoir plusieurs raisons (si vous utilisez anaconda je ne sais pas si ces problèmes correspondent à votre situation) :\n",
        "\n",
        "*   Vous n'avez pas installé Microsoft Visual Studio C++ : https://support.microsoft.com/fr-fr/help/2977003/the-latest-supported-visual-c-downloads\n",
        "\n",
        "*   pip a besoin d'être mis à jour, ouvrez un terminal (cmd) et entrez la commande : `python -m install --upgrade pip`\n",
        "Réessayez d'installer ortools.\n",
        "\n",
        "*   Il se peut que vous ayez une version 32-bits de python, pour vérifier ouvrez un terminal :\n",
        "  *   Ouvrez un interpréteur python avec la commande : `python`\n",
        "  *   Importez le module struct : `import struct`\n",
        "  *   Tapez la ligne : `print(struct.calcsize(\"P\")*8`  \n",
        "      * 64 --> votre version supporte ortools.\n",
        "      * 32 --> votre version ne supporte pas ortools, il faut passer à la version 64 bits.\n",
        "\n",
        "Pour passer à la version 64 bits suivez les étapes suivantes (je précise encore une fois je ne pense pas que cela s'applique si vous utilisez anaconda) :\n",
        "*   Désinstallez Python (Touche Windows -> Cherchez 'Applications et fonctionnalités' --> Python --> Désinstaller)\n",
        "*   Rendez vous sur le lien suivant : https://www.python.org/downloads/release/python-382/ allez en bas de la page et téléchargez \"Windows x86-64 executable installer\", cochez la case 'Add Python to PATH' puis séléctionnez l'installation conseillée\n",
        "*   Une fois bien installé, mettez en place python pour votre éditeur de texte et installez ortools (en général sur la page de l'éditeur il y a un tuto). Pour ceux qui utilisent visual studio code (que je vous recommande) voici un tuto : https://code.visualstudio.com/docs/python/python-tutorial\n",
        "\n",
        "Si vous avez encore des erreurs essayez de copier/coller le message d'erreur dans Google pour trouver une solution.\n",
        "\n",
        "\n",
        "\n",
        "\n",
        "\n"
      ]
    },
    {
      "cell_type": "markdown",
      "metadata": {
        "id": "QXTas_jnqQyH",
        "colab_type": "text"
      },
      "source": [
        "# Or Tools\n",
        "\n",
        "Pour commencer nous avons besoin d'importer 'cp_model' du module ortools"
      ]
    },
    {
      "cell_type": "code",
      "metadata": {
        "id": "Izr0Up4WqPcR",
        "colab_type": "code",
        "colab": {}
      },
      "source": [
        "from ortools.sat.python import cp_model"
      ],
      "execution_count": 0,
      "outputs": []
    },
    {
      "cell_type": "markdown",
      "metadata": {
        "id": "PR4v1FGSx2BJ",
        "colab_type": "text"
      },
      "source": [
        "Pour créer un model à résoudre on utlise la ligne suivante :"
      ]
    },
    {
      "cell_type": "code",
      "metadata": {
        "id": "uMsR_EY2yEUu",
        "colab_type": "code",
        "colab": {}
      },
      "source": [
        "monModel = cp_model.CpModel()"
      ],
      "execution_count": 0,
      "outputs": []
    },
    {
      "cell_type": "markdown",
      "metadata": {
        "colab_type": "text",
        "id": "MSt9iKAP1NCS"
      },
      "source": [
        "Je vais prendre comme exemple le problème des reines. Pour cela j'ai besoin de créer une liste qui contiendra les coordonnées i (ligne) et j (colonne). Si les coordonnées de ma reine 1 sont (1,0) on aura `plateau[0]= [1,0]`"
      ]
    },
    {
      "cell_type": "markdown",
      "metadata": {
        "id": "5RKZPaSu0a5a",
        "colab_type": "text"
      },
      "source": [
        "Il faut créer les variables sur lesquelles les contraintes vont s'appliquer, cela se fait avec la fonction `NewIntVar(*borneInf*,*bornSup*,*nom*)`. \n",
        "\n",
        "Notez que les bornes sont incluses. Pour notre problème nous avons huit list de deux int, chacun compris entre 0 et 7. \n",
        "\n",
        "J'utilise une compréhension de liste pour créer mon plateau (si vous ne savez pas ce que c'est je vous conseil fortement de regarder des tutos sur internet, c'est abstrait au début mais c'est très pratique une fois que l'on a compris le concepte)"
      ]
    },
    {
      "cell_type": "code",
      "metadata": {
        "id": "iD7pN5Xd1tqD",
        "colab_type": "code",
        "outputId": "6ade192e-b6bc-42d4-fd1a-2a87cf94d6b5",
        "colab": {
          "base_uri": "https://localhost:8080/",
          "height": 153
        }
      },
      "source": [
        "plateau = [[monModel.NewIntVar(0,7,f'Reine : {k} : i'),monModel.NewIntVar(0,7,f'Reine : {k} : j')] for k in range(8)]\n",
        "plateau"
      ],
      "execution_count": 4,
      "outputs": [
        {
          "output_type": "execute_result",
          "data": {
            "text/plain": [
              "[[Reine : 0 : i(0..7), Reine : 0 : j(0..7)],\n",
              " [Reine : 1 : i(0..7), Reine : 1 : j(0..7)],\n",
              " [Reine : 2 : i(0..7), Reine : 2 : j(0..7)],\n",
              " [Reine : 3 : i(0..7), Reine : 3 : j(0..7)],\n",
              " [Reine : 4 : i(0..7), Reine : 4 : j(0..7)],\n",
              " [Reine : 5 : i(0..7), Reine : 5 : j(0..7)],\n",
              " [Reine : 6 : i(0..7), Reine : 6 : j(0..7)],\n",
              " [Reine : 7 : i(0..7), Reine : 7 : j(0..7)]]"
            ]
          },
          "metadata": {
            "tags": []
          },
          "execution_count": 4
        }
      ]
    },
    {
      "cell_type": "markdown",
      "metadata": {
        "id": "DG5XXzC32pxZ",
        "colab_type": "text"
      },
      "source": [
        "Si vous avez exécuté le code ci-dessus vous verrez que l'on a bien 8 list de deux valeurs qui peuvent prendre des valeurs entre 0 et 7."
      ]
    },
    {
      "cell_type": "markdown",
      "metadata": {
        "id": "DQHsfrBEy2G3",
        "colab_type": "text"
      },
      "source": [
        "Pour appliquer des contraintes les méthodes `Add` et `AddAllDifferent` seront suffisantes pour les problèmes vus en TP.\n",
        "*   `Add` : permet d'appliquer une contrainte de type boolean, par example si vous avez deux variables x et y de type int et que vous voulez que x < y il faut écrire ` monModel.Add(x<y)`\n",
        "*   `AddAllDifferent` : permet d'appliquer une contrainte de difference à une liste. Si je veux préciser que tous les éléments de maList doivent être différent on écrit  `monModel.AddAllDifferent(maList)`\n",
        "\n"
      ]
    },
    {
      "cell_type": "markdown",
      "metadata": {
        "id": "Jx04tCds4YrQ",
        "colab_type": "text"
      },
      "source": [
        "Pour le problème des reines les contraintes à poser sont les suivantes :\n",
        "\n",
        "\n",
        "*   Que toutes les coordonnées lignes et colonnes soient différentes. (Contraintes horizontales)\n",
        "*  Que la différence `|i-k|` et `|j-z|` des coordonnées `(i,j)` et `(k,z)` ne soit pas égale (Contraintes diagonales)\n",
        "\n"
      ]
    },
    {
      "cell_type": "code",
      "metadata": {
        "id": "W2v8WSN876rC",
        "colab_type": "code",
        "colab": {}
      },
      "source": [
        "#Contraintes horizontales\n",
        "col = [plateau[i][0] for i in range(8)]\n",
        "row = [plateau[i][1] for i in range(8)]\n",
        "monModel.AddAllDifferent(col)\n",
        "monModel.AddAllDifferent(row)\n",
        "\n",
        "\n",
        "#Contraintes diagonales\n",
        "for i in range(8):\n",
        "  for j in range(i+1,8):\n",
        "    monModel.Add(plateau[i][0] - plateau[j][0] != plateau[i][1] - plateau[j][1])\n",
        "    monModel.Add(plateau[i][0] - plateau[j][0] != -(plateau[i][1] - plateau[j][1]))\n"
      ],
      "execution_count": 0,
      "outputs": []
    },
    {
      "cell_type": "markdown",
      "metadata": {
        "id": "V0EWUUzb-jt-",
        "colab_type": "text"
      },
      "source": [
        "Maintenant que toutes mes contraintes sont appliqués le code suivant permet de lancer le solver."
      ]
    },
    {
      "cell_type": "code",
      "metadata": {
        "id": "-5E6nV8X-tTa",
        "colab_type": "code",
        "colab": {}
      },
      "source": [
        "solver = cp_model.CpSolver()\n",
        "status = solver.Solve(monModel)"
      ],
      "execution_count": 0,
      "outputs": []
    },
    {
      "cell_type": "markdown",
      "metadata": {
        "id": "S30v0837UX3H",
        "colab_type": "text"
      },
      "source": [
        "Si notre problème est résolvable on récupère les coordonnées dans une liste :"
      ]
    },
    {
      "cell_type": "code",
      "metadata": {
        "id": "6yhpwvSCDYNZ",
        "colab_type": "code",
        "outputId": "7ad2f3f4-fd28-4b36-dfd4-a5ab42563afa",
        "colab": {
          "base_uri": "https://localhost:8080/",
          "height": 34
        }
      },
      "source": [
        "results = []\n",
        "if status==cp_model.FEASIBLE:\n",
        "  for i in range(8):\n",
        "      results.append([solver.Value(plateau[i][0]),solver.Value(plateau[i][1])])\n",
        "else:\n",
        "  print('Problème non résolvable')\n",
        "print(results)"
      ],
      "execution_count": 9,
      "outputs": [
        {
          "output_type": "stream",
          "text": [
            "[[1, 7], [0, 3], [2, 0], [4, 5], [5, 1], [6, 6], [3, 2], [7, 4]]\n"
          ],
          "name": "stdout"
        }
      ]
    },
    {
      "cell_type": "markdown",
      "metadata": {
        "id": "809inaCrUjl1",
        "colab_type": "text"
      },
      "source": [
        "Puis on affiche les résultats :"
      ]
    },
    {
      "cell_type": "code",
      "metadata": {
        "id": "GUl_P94sTbII",
        "colab_type": "code",
        "outputId": "0c082727-44ce-4412-86bb-f6a449dbfc48",
        "colab": {
          "base_uri": "https://localhost:8080/",
          "height": 153
        }
      },
      "source": [
        "if results:\n",
        "  for i in range(8):\n",
        "    for j in range(8):\n",
        "      if [i,j] in results:\n",
        "        print('X',end=' ')\n",
        "      else:\n",
        "        print('0',end=' ')\n",
        "    print()"
      ],
      "execution_count": 10,
      "outputs": [
        {
          "output_type": "stream",
          "text": [
            "0 0 0 X 0 0 0 0 \n",
            "0 0 0 0 0 0 0 X \n",
            "X 0 0 0 0 0 0 0 \n",
            "0 0 X 0 0 0 0 0 \n",
            "0 0 0 0 0 X 0 0 \n",
            "0 X 0 0 0 0 0 0 \n",
            "0 0 0 0 0 0 X 0 \n",
            "0 0 0 0 X 0 0 0 \n"
          ],
          "name": "stdout"
        }
      ]
    }
  ]
}
